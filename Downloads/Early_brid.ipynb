{
 "cells": [
  {
   "cell_type": "markdown",
   "id": "3bb3aa97-7914-4430-8beb-3faa67ba7dad",
   "metadata": {},
   "source": [
    "# Implement a method in youtube  video"
   ]
  },
  {
   "cell_type": "code",
   "execution_count": 11,
   "id": "1d00362e-9ae3-4f00-a56c-104e6c56fd79",
   "metadata": {},
   "outputs": [],
   "source": [
    "# https://www.youtube.com/watch?v=jFa6u-7E10U"
   ]
  },
  {
   "cell_type": "markdown",
   "id": "b4a3e1b0-889f-40f5-bfe1-ca5391c2a7ba",
   "metadata": {},
   "source": [
    "### Import Library"
   ]
  },
  {
   "cell_type": "code",
   "execution_count": 12,
   "id": "8ed51685-7682-46ce-9ab2-df7a6f6937c5",
   "metadata": {},
   "outputs": [],
   "source": [
    "import numpy as np\n",
    "import pandas as pd\n",
    "import numpy as np\n",
    "import pandas_ta as ta\n",
    "import seaborn as sns\n",
    "\n",
    "import matplotlib.pyplot as plt\n",
    "plt.rcParams['figure.figsize'] = [12, 6]\n",
    "plt.rcParams['figure.dpi'] = 120\n",
    "import warnings\n",
    "warnings.filterwarnings('ignore')"
   ]
  },
  {
   "cell_type": "markdown",
   "id": "fe85b31e-7106-4979-aba2-03093ade02ca",
   "metadata": {},
   "source": [
    "### Load Price Data"
   ]
  },
  {
   "cell_type": "code",
   "execution_count": 13,
   "id": "0f3bf6f4-aeb4-404e-932a-9afef6ea370a",
   "metadata": {},
   "outputs": [],
   "source": [
    "import os\n",
    "from pathlib import Path\n",
    "notebook_path = os.getcwd()\n",
    "current_dir = Path(notebook_path)\n",
    "csv_file = str(current_dir.parent) + '/VN30F1M/VN30F1M_5minutes.csv'\n",
    "is_file = os.path.isfile(csv_file)\n",
    "if is_file:\n",
    "    dataset = pd.read_csv(csv_file, index_col='Date', parse_dates=True)\n",
    "else:\n",
    "    print('remote')\n",
    "    dataset = pd.read_csv(\"https://raw.githubusercontent.com/zuongthaotn/vn-stock-data/main/VN30ps/VN30F1M_5minutes.csv\", index_col='Date', parse_dates=True)"
   ]
  },
  {
   "cell_type": "code",
   "execution_count": 14,
   "id": "eff99ef6-2921-4245-b40d-eb6ecee0bc12",
   "metadata": {},
   "outputs": [],
   "source": [
    "data = dataset.copy()"
   ]
  },
  {
   "cell_type": "code",
   "execution_count": 15,
   "id": "a7dff349-b0e8-4455-9bb3-f54f8f4bbfde",
   "metadata": {},
   "outputs": [],
   "source": [
    "data = data[(data.index > '2020-11-01 00:00:00') & (data.index < '2024-10-01 00:00:00')]"
   ]
  },
  {
   "cell_type": "code",
   "execution_count": 16,
   "id": "1fd3b0e4-aa77-43b7-b9c3-39a0fbf1e690",
   "metadata": {},
   "outputs": [
    {
     "data": {
      "text/html": [
       "<div>\n",
       "<style scoped>\n",
       "    .dataframe tbody tr th:only-of-type {\n",
       "        vertical-align: middle;\n",
       "    }\n",
       "\n",
       "    .dataframe tbody tr th {\n",
       "        vertical-align: top;\n",
       "    }\n",
       "\n",
       "    .dataframe thead th {\n",
       "        text-align: right;\n",
       "    }\n",
       "</style>\n",
       "<table border=\"1\" class=\"dataframe\">\n",
       "  <thead>\n",
       "    <tr style=\"text-align: right;\">\n",
       "      <th></th>\n",
       "      <th>Open</th>\n",
       "      <th>High</th>\n",
       "      <th>Low</th>\n",
       "      <th>Close</th>\n",
       "      <th>Volume</th>\n",
       "    </tr>\n",
       "    <tr>\n",
       "      <th>Date</th>\n",
       "      <th></th>\n",
       "      <th></th>\n",
       "      <th></th>\n",
       "      <th></th>\n",
       "      <th></th>\n",
       "    </tr>\n",
       "  </thead>\n",
       "  <tbody>\n",
       "    <tr>\n",
       "      <th>2020-11-02 09:00:00</th>\n",
       "      <td>900.1</td>\n",
       "      <td>900.2</td>\n",
       "      <td>899.3</td>\n",
       "      <td>900.1</td>\n",
       "      <td>1910</td>\n",
       "    </tr>\n",
       "    <tr>\n",
       "      <th>2020-11-02 09:05:00</th>\n",
       "      <td>900.2</td>\n",
       "      <td>900.2</td>\n",
       "      <td>898.7</td>\n",
       "      <td>899.4</td>\n",
       "      <td>1670</td>\n",
       "    </tr>\n",
       "    <tr>\n",
       "      <th>2020-11-02 09:10:00</th>\n",
       "      <td>899.5</td>\n",
       "      <td>900.0</td>\n",
       "      <td>899.0</td>\n",
       "      <td>899.5</td>\n",
       "      <td>1329</td>\n",
       "    </tr>\n",
       "    <tr>\n",
       "      <th>2020-11-02 09:15:00</th>\n",
       "      <td>899.4</td>\n",
       "      <td>899.5</td>\n",
       "      <td>898.2</td>\n",
       "      <td>898.6</td>\n",
       "      <td>1722</td>\n",
       "    </tr>\n",
       "    <tr>\n",
       "      <th>2020-11-02 09:20:00</th>\n",
       "      <td>898.5</td>\n",
       "      <td>898.6</td>\n",
       "      <td>896.5</td>\n",
       "      <td>898.2</td>\n",
       "      <td>2939</td>\n",
       "    </tr>\n",
       "    <tr>\n",
       "      <th>...</th>\n",
       "      <td>...</td>\n",
       "      <td>...</td>\n",
       "      <td>...</td>\n",
       "      <td>...</td>\n",
       "      <td>...</td>\n",
       "    </tr>\n",
       "    <tr>\n",
       "      <th>2024-09-30 14:15:00</th>\n",
       "      <td>1353.1</td>\n",
       "      <td>1353.9</td>\n",
       "      <td>1351.5</td>\n",
       "      <td>1353.1</td>\n",
       "      <td>6265</td>\n",
       "    </tr>\n",
       "    <tr>\n",
       "      <th>2024-09-30 14:20:00</th>\n",
       "      <td>1353.0</td>\n",
       "      <td>1354.7</td>\n",
       "      <td>1352.6</td>\n",
       "      <td>1354.6</td>\n",
       "      <td>4426</td>\n",
       "    </tr>\n",
       "    <tr>\n",
       "      <th>2024-09-30 14:25:00</th>\n",
       "      <td>1354.6</td>\n",
       "      <td>1356.3</td>\n",
       "      <td>1354.1</td>\n",
       "      <td>1355.9</td>\n",
       "      <td>7920</td>\n",
       "    </tr>\n",
       "    <tr>\n",
       "      <th>2024-09-30 14:30:00</th>\n",
       "      <td>1355.7</td>\n",
       "      <td>1355.8</td>\n",
       "      <td>1355.7</td>\n",
       "      <td>1355.8</td>\n",
       "      <td>38</td>\n",
       "    </tr>\n",
       "    <tr>\n",
       "      <th>2024-09-30 14:45:00</th>\n",
       "      <td>1357.0</td>\n",
       "      <td>1357.0</td>\n",
       "      <td>1357.0</td>\n",
       "      <td>1357.0</td>\n",
       "      <td>5549</td>\n",
       "    </tr>\n",
       "  </tbody>\n",
       "</table>\n",
       "<p>49748 rows × 5 columns</p>\n",
       "</div>"
      ],
      "text/plain": [
       "                       Open    High     Low   Close  Volume\n",
       "Date                                                       \n",
       "2020-11-02 09:00:00   900.1   900.2   899.3   900.1    1910\n",
       "2020-11-02 09:05:00   900.2   900.2   898.7   899.4    1670\n",
       "2020-11-02 09:10:00   899.5   900.0   899.0   899.5    1329\n",
       "2020-11-02 09:15:00   899.4   899.5   898.2   898.6    1722\n",
       "2020-11-02 09:20:00   898.5   898.6   896.5   898.2    2939\n",
       "...                     ...     ...     ...     ...     ...\n",
       "2024-09-30 14:15:00  1353.1  1353.9  1351.5  1353.1    6265\n",
       "2024-09-30 14:20:00  1353.0  1354.7  1352.6  1354.6    4426\n",
       "2024-09-30 14:25:00  1354.6  1356.3  1354.1  1355.9    7920\n",
       "2024-09-30 14:30:00  1355.7  1355.8  1355.7  1355.8      38\n",
       "2024-09-30 14:45:00  1357.0  1357.0  1357.0  1357.0    5549\n",
       "\n",
       "[49748 rows x 5 columns]"
      ]
     },
     "execution_count": 16,
     "metadata": {},
     "output_type": "execute_result"
    }
   ],
   "source": [
    "data"
   ]
  },
  {
   "cell_type": "code",
   "execution_count": 17,
   "id": "e21ec733-ab7d-4fc6-ad67-e0fd6de290e1",
   "metadata": {},
   "outputs": [],
   "source": [
    "first_hour = data.groupby(data.index.date).first()\n",
    "last_hour = data.groupby(data.index.date).last()"
   ]
  },
  {
   "cell_type": "code",
   "execution_count": 18,
   "id": "e3308b87-ace3-4f82-8024-507730b74d36",
   "metadata": {},
   "outputs": [
    {
     "data": {
      "text/html": [
       "<div>\n",
       "<style scoped>\n",
       "    .dataframe tbody tr th:only-of-type {\n",
       "        vertical-align: middle;\n",
       "    }\n",
       "\n",
       "    .dataframe tbody tr th {\n",
       "        vertical-align: top;\n",
       "    }\n",
       "\n",
       "    .dataframe thead th {\n",
       "        text-align: right;\n",
       "    }\n",
       "</style>\n",
       "<table border=\"1\" class=\"dataframe\">\n",
       "  <thead>\n",
       "    <tr style=\"text-align: right;\">\n",
       "      <th></th>\n",
       "      <th>Open</th>\n",
       "      <th>High</th>\n",
       "      <th>Low</th>\n",
       "      <th>Close</th>\n",
       "      <th>Volume</th>\n",
       "    </tr>\n",
       "  </thead>\n",
       "  <tbody>\n",
       "    <tr>\n",
       "      <th>2020-11-02</th>\n",
       "      <td>900.1</td>\n",
       "      <td>900.2</td>\n",
       "      <td>899.3</td>\n",
       "      <td>900.1</td>\n",
       "      <td>1910</td>\n",
       "    </tr>\n",
       "    <tr>\n",
       "      <th>2020-11-03</th>\n",
       "      <td>909.3</td>\n",
       "      <td>909.4</td>\n",
       "      <td>908.5</td>\n",
       "      <td>908.8</td>\n",
       "      <td>1435</td>\n",
       "    </tr>\n",
       "    <tr>\n",
       "      <th>2020-11-04</th>\n",
       "      <td>909.0</td>\n",
       "      <td>909.9</td>\n",
       "      <td>908.8</td>\n",
       "      <td>908.9</td>\n",
       "      <td>1444</td>\n",
       "    </tr>\n",
       "    <tr>\n",
       "      <th>2020-11-05</th>\n",
       "      <td>913.7</td>\n",
       "      <td>914.7</td>\n",
       "      <td>913.6</td>\n",
       "      <td>913.6</td>\n",
       "      <td>2193</td>\n",
       "    </tr>\n",
       "    <tr>\n",
       "      <th>2020-11-06</th>\n",
       "      <td>911.2</td>\n",
       "      <td>912.0</td>\n",
       "      <td>911.2</td>\n",
       "      <td>911.9</td>\n",
       "      <td>1714</td>\n",
       "    </tr>\n",
       "    <tr>\n",
       "      <th>...</th>\n",
       "      <td>...</td>\n",
       "      <td>...</td>\n",
       "      <td>...</td>\n",
       "      <td>...</td>\n",
       "      <td>...</td>\n",
       "    </tr>\n",
       "    <tr>\n",
       "      <th>2024-09-24</th>\n",
       "      <td>1326.0</td>\n",
       "      <td>1326.0</td>\n",
       "      <td>1325.3</td>\n",
       "      <td>1325.3</td>\n",
       "      <td>3123</td>\n",
       "    </tr>\n",
       "    <tr>\n",
       "      <th>2024-09-25</th>\n",
       "      <td>1337.3</td>\n",
       "      <td>1338.5</td>\n",
       "      <td>1336.9</td>\n",
       "      <td>1337.6</td>\n",
       "      <td>6004</td>\n",
       "    </tr>\n",
       "    <tr>\n",
       "      <th>2024-09-26</th>\n",
       "      <td>1345.9</td>\n",
       "      <td>1346.5</td>\n",
       "      <td>1345.2</td>\n",
       "      <td>1346.4</td>\n",
       "      <td>4948</td>\n",
       "    </tr>\n",
       "    <tr>\n",
       "      <th>2024-09-27</th>\n",
       "      <td>1358.1</td>\n",
       "      <td>1359.0</td>\n",
       "      <td>1357.7</td>\n",
       "      <td>1358.0</td>\n",
       "      <td>5435</td>\n",
       "    </tr>\n",
       "    <tr>\n",
       "      <th>2024-09-30</th>\n",
       "      <td>1352.6</td>\n",
       "      <td>1352.6</td>\n",
       "      <td>1351.1</td>\n",
       "      <td>1352.2</td>\n",
       "      <td>6105</td>\n",
       "    </tr>\n",
       "  </tbody>\n",
       "</table>\n",
       "<p>976 rows × 5 columns</p>\n",
       "</div>"
      ],
      "text/plain": [
       "              Open    High     Low   Close  Volume\n",
       "2020-11-02   900.1   900.2   899.3   900.1    1910\n",
       "2020-11-03   909.3   909.4   908.5   908.8    1435\n",
       "2020-11-04   909.0   909.9   908.8   908.9    1444\n",
       "2020-11-05   913.7   914.7   913.6   913.6    2193\n",
       "2020-11-06   911.2   912.0   911.2   911.9    1714\n",
       "...            ...     ...     ...     ...     ...\n",
       "2024-09-24  1326.0  1326.0  1325.3  1325.3    3123\n",
       "2024-09-25  1337.3  1338.5  1336.9  1337.6    6004\n",
       "2024-09-26  1345.9  1346.5  1345.2  1346.4    4948\n",
       "2024-09-27  1358.1  1359.0  1357.7  1358.0    5435\n",
       "2024-09-30  1352.6  1352.6  1351.1  1352.2    6105\n",
       "\n",
       "[976 rows x 5 columns]"
      ]
     },
     "execution_count": 18,
     "metadata": {},
     "output_type": "execute_result"
    }
   ],
   "source": [
    "first_hour"
   ]
  },
  {
   "cell_type": "code",
   "execution_count": 19,
   "id": "6f1b4059-04c8-45ef-8181-7676b0d35f88",
   "metadata": {},
   "outputs": [],
   "source": [
    "first_hour_return = 100 * (first_hour['Close'] - first_hour['Open']) / (first_hour['Open'])"
   ]
  },
  {
   "cell_type": "code",
   "execution_count": 20,
   "id": "448d9713-4042-4237-8afe-1d6630cba303",
   "metadata": {},
   "outputs": [],
   "source": [
    "day_return = 100 * (last_hour['Close'] - first_hour['Close']) / first_hour['Close']"
   ]
  },
  {
   "cell_type": "code",
   "execution_count": 22,
   "id": "993351d1-adc9-4cb5-a88e-cf5ee79f0ada",
   "metadata": {},
   "outputs": [],
   "source": [
    "df_analytics = pd.DataFrame({'first_hour_return': first_hour_return, 'day_return': day_return})"
   ]
  },
  {
   "cell_type": "code",
   "execution_count": 23,
   "id": "3ed4c037-82d7-481f-b728-d9132a22bbd9",
   "metadata": {},
   "outputs": [
    {
     "data": {
      "text/plain": [
       "<matplotlib.lines.Line2D at 0x7261035e7c90>"
      ]
     },
     "execution_count": 23,
     "metadata": {},
     "output_type": "execute_result"
    },
    {
     "data": {
      "image/png": "[encoded data removed]",
      "text/plain": [
       "<Figure size 1440x720 with 1 Axes>"
      ]
     },
     "metadata": {},
     "output_type": "display_data"
    }
   ],
   "source": [
    "plt.scatter(df_analytics['first_hour_return'], df_analytics['day_return'])\n",
    "plt.xlabel('First hour return')\n",
    "plt.ylabel('Day return')\n",
    "plt.axhline(0, color='gray', linestyle='--')\n",
    "plt.axvline(0, color='gray', linestyle='--')"
   ]
  },
  {
   "cell_type": "code",
   "execution_count": 24,
   "id": "a205c84d-1985-414e-836b-610531f9fe29",
   "metadata": {},
   "outputs": [],
   "source": [
    "correlation = df_analytics.corr().loc['first_hour_return', 'day_return']"
   ]
  },
  {
   "cell_type": "code",
   "execution_count": 25,
   "id": "401bf10d-ec31-48b5-95ab-9906c98a704b",
   "metadata": {},
   "outputs": [
    {
     "data": {
      "text/plain": [
       "0.10995102528197938"
      ]
     },
     "execution_count": 25,
     "metadata": {},
     "output_type": "execute_result"
    }
   ],
   "source": [
    "correlation"
   ]
  },
  {
   "cell_type": "code",
   "execution_count": 26,
   "id": "dbaac9f5-6857-4f40-9cf9-3f1a3f671bcc",
   "metadata": {},
   "outputs": [],
   "source": [
    "from scipy.stats import pearsonr"
   ]
  },
  {
   "cell_type": "code",
   "execution_count": 27,
   "id": "e74008aa-5196-493b-b9f5-132dee3cf342",
   "metadata": {},
   "outputs": [],
   "source": [
    "corr, p_val = pearsonr(df_analytics['first_hour_return'], df_analytics['day_return'])"
   ]
  },
  {
   "cell_type": "code",
   "execution_count": 28,
   "id": "59738c19-72e9-48b1-98cc-4277515bf02b",
   "metadata": {},
   "outputs": [
    {
     "data": {
      "text/plain": [
       "0.10995102528197931"
      ]
     },
     "execution_count": 28,
     "metadata": {},
     "output_type": "execute_result"
    }
   ],
   "source": [
    "corr"
   ]
  },
  {
   "cell_type": "code",
   "execution_count": 29,
   "id": "04db3e93-e357-4bde-a9d9-8f20d62047e2",
   "metadata": {},
   "outputs": [
    {
     "data": {
      "text/plain": [
       "0.0005795352408316724"
      ]
     },
     "execution_count": 29,
     "metadata": {},
     "output_type": "execute_result"
    }
   ],
   "source": [
    "p_val"
   ]
  },
  {
   "cell_type": "code",
   "execution_count": null,
   "id": "2d587cbe-3ddd-433c-80a5-c731b3d833c2",
   "metadata": {},
   "outputs": [],
   "source": []
  }
 ],
 "metadata": {
  "kernelspec": {
   "display_name": "Python 3 (ipykernel)",
   "language": "python",
   "name": "python3"
  },
  "language_info": {
   "codemirror_mode": {
    "name": "ipython",
    "version": 3
   },
   "file_extension": ".py",
   "mimetype": "text/x-python",
   "name": "python",
   "nbconvert_exporter": "python",
   "pygments_lexer": "ipython3",
   "version": "3.11.4"
  }
 },
 "nbformat": 4,
 "nbformat_minor": 5
}
