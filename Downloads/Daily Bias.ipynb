{
 "cells": [
  {
   "cell_type": "markdown",
   "id": "3bb3aa97-7914-4430-8beb-3faa67ba7dad",
   "metadata": {},
   "source": [
    "# Daily Bias detection by ChatGPT"
   ]
  },
  {
   "cell_type": "markdown",
   "id": "b4a3e1b0-889f-40f5-bfe1-ca5391c2a7ba",
   "metadata": {},
   "source": [
    "### Import Library"
   ]
  },
  {
   "cell_type": "code",
   "execution_count": 1,
   "id": "8ed51685-7682-46ce-9ab2-df7a6f6937c5",
   "metadata": {},
   "outputs": [],
   "source": [
    "import numpy as np\n",
    "import pandas as pd\n",
    "import numpy as np\n",
    "import pandas_ta as ta\n",
    "import seaborn as sns\n",
    "\n",
    "import matplotlib.pyplot as plt\n",
    "plt.rcParams['figure.figsize'] = [12, 6]\n",
    "plt.rcParams['figure.dpi'] = 120\n",
    "import warnings\n",
    "warnings.filterwarnings('ignore')"
   ]
  },
  {
   "cell_type": "markdown",
   "id": "fe85b31e-7106-4979-aba2-03093ade02ca",
   "metadata": {},
   "source": [
    "### Load Price Data"
   ]
  },
  {
   "cell_type": "code",
   "execution_count": 2,
   "id": "0f3bf6f4-aeb4-404e-932a-9afef6ea370a",
   "metadata": {},
   "outputs": [],
   "source": [
    "import os\n",
    "from pathlib import Path\n",
    "notebook_path = os.getcwd()\n",
    "current_dir = Path(notebook_path)\n",
    "csv_file = str(current_dir.parent) + '/VN30F1M/VN30F1M_5minutes.csv'\n",
    "is_file = os.path.isfile(csv_file)\n",
    "if is_file:\n",
    "    dataset = pd.read_csv(csv_file, index_col='Date', parse_dates=True)\n",
    "else:\n",
    "    print('remote')\n",
    "    dataset = pd.read_csv(\"https://raw.githubusercontent.com/zuongthaotn/vn-stock-data/main/VN30ps/VN30F1M_5minutes.csv\", index_col='Date', parse_dates=True)"
   ]
  },
  {
   "cell_type": "code",
   "execution_count": 3,
   "id": "eff99ef6-2921-4245-b40d-eb6ecee0bc12",
   "metadata": {},
   "outputs": [],
   "source": [
    "data = dataset.copy()"
   ]
  },
  {
   "cell_type": "code",
   "execution_count": 4,
   "id": "1fd3b0e4-aa77-43b7-b9c3-39a0fbf1e690",
   "metadata": {},
   "outputs": [
    {
     "data": {
      "text/html": [
       "<div>\n",
       "<style scoped>\n",
       "    .dataframe tbody tr th:only-of-type {\n",
       "        vertical-align: middle;\n",
       "    }\n",
       "\n",
       "    .dataframe tbody tr th {\n",
       "        vertical-align: top;\n",
       "    }\n",
       "\n",
       "    .dataframe thead th {\n",
       "        text-align: right;\n",
       "    }\n",
       "</style>\n",
       "<table border=\"1\" class=\"dataframe\">\n",
       "  <thead>\n",
       "    <tr style=\"text-align: right;\">\n",
       "      <th></th>\n",
       "      <th>Open</th>\n",
       "      <th>High</th>\n",
       "      <th>Low</th>\n",
       "      <th>Close</th>\n",
       "      <th>Volume</th>\n",
       "    </tr>\n",
       "    <tr>\n",
       "      <th>Date</th>\n",
       "      <th></th>\n",
       "      <th></th>\n",
       "      <th></th>\n",
       "      <th></th>\n",
       "      <th></th>\n",
       "    </tr>\n",
       "  </thead>\n",
       "  <tbody>\n",
       "    <tr>\n",
       "      <th>2018-08-13 09:00:00</th>\n",
       "      <td>943.5</td>\n",
       "      <td>943.6</td>\n",
       "      <td>942.9</td>\n",
       "      <td>943.1</td>\n",
       "      <td>1812</td>\n",
       "    </tr>\n",
       "    <tr>\n",
       "      <th>2018-08-13 09:05:00</th>\n",
       "      <td>943.1</td>\n",
       "      <td>943.5</td>\n",
       "      <td>942.9</td>\n",
       "      <td>943.3</td>\n",
       "      <td>1323</td>\n",
       "    </tr>\n",
       "    <tr>\n",
       "      <th>2018-08-13 09:10:00</th>\n",
       "      <td>943.2</td>\n",
       "      <td>943.3</td>\n",
       "      <td>942.6</td>\n",
       "      <td>943.1</td>\n",
       "      <td>1207</td>\n",
       "    </tr>\n",
       "    <tr>\n",
       "      <th>2018-08-13 09:15:00</th>\n",
       "      <td>943.1</td>\n",
       "      <td>943.1</td>\n",
       "      <td>942.3</td>\n",
       "      <td>942.6</td>\n",
       "      <td>1196</td>\n",
       "    </tr>\n",
       "    <tr>\n",
       "      <th>2018-08-13 09:20:00</th>\n",
       "      <td>942.6</td>\n",
       "      <td>943.7</td>\n",
       "      <td>942.4</td>\n",
       "      <td>943.7</td>\n",
       "      <td>1765</td>\n",
       "    </tr>\n",
       "    <tr>\n",
       "      <th>...</th>\n",
       "      <td>...</td>\n",
       "      <td>...</td>\n",
       "      <td>...</td>\n",
       "      <td>...</td>\n",
       "      <td>...</td>\n",
       "    </tr>\n",
       "    <tr>\n",
       "      <th>2025-02-25 14:15:00</th>\n",
       "      <td>1358.4</td>\n",
       "      <td>1360.8</td>\n",
       "      <td>1358.2</td>\n",
       "      <td>1360.5</td>\n",
       "      <td>6708</td>\n",
       "    </tr>\n",
       "    <tr>\n",
       "      <th>2025-02-25 14:20:00</th>\n",
       "      <td>1360.3</td>\n",
       "      <td>1362.1</td>\n",
       "      <td>1359.4</td>\n",
       "      <td>1361.0</td>\n",
       "      <td>7025</td>\n",
       "    </tr>\n",
       "    <tr>\n",
       "      <th>2025-02-25 14:25:00</th>\n",
       "      <td>1361.0</td>\n",
       "      <td>1362.2</td>\n",
       "      <td>1360.8</td>\n",
       "      <td>1361.7</td>\n",
       "      <td>4896</td>\n",
       "    </tr>\n",
       "    <tr>\n",
       "      <th>2025-02-25 14:30:00</th>\n",
       "      <td>1362.0</td>\n",
       "      <td>1362.0</td>\n",
       "      <td>1361.8</td>\n",
       "      <td>1361.8</td>\n",
       "      <td>180</td>\n",
       "    </tr>\n",
       "    <tr>\n",
       "      <th>2025-02-25 14:45:00</th>\n",
       "      <td>1359.8</td>\n",
       "      <td>1359.8</td>\n",
       "      <td>1359.8</td>\n",
       "      <td>1359.8</td>\n",
       "      <td>4885</td>\n",
       "    </tr>\n",
       "  </tbody>\n",
       "</table>\n",
       "<p>82987 rows × 5 columns</p>\n",
       "</div>"
      ],
      "text/plain": [
       "                       Open    High     Low   Close  Volume\n",
       "Date                                                       \n",
       "2018-08-13 09:00:00   943.5   943.6   942.9   943.1    1812\n",
       "2018-08-13 09:05:00   943.1   943.5   942.9   943.3    1323\n",
       "2018-08-13 09:10:00   943.2   943.3   942.6   943.1    1207\n",
       "2018-08-13 09:15:00   943.1   943.1   942.3   942.6    1196\n",
       "2018-08-13 09:20:00   942.6   943.7   942.4   943.7    1765\n",
       "...                     ...     ...     ...     ...     ...\n",
       "2025-02-25 14:15:00  1358.4  1360.8  1358.2  1360.5    6708\n",
       "2025-02-25 14:20:00  1360.3  1362.1  1359.4  1361.0    7025\n",
       "2025-02-25 14:25:00  1361.0  1362.2  1360.8  1361.7    4896\n",
       "2025-02-25 14:30:00  1362.0  1362.0  1361.8  1361.8     180\n",
       "2025-02-25 14:45:00  1359.8  1359.8  1359.8  1359.8    4885\n",
       "\n",
       "[82987 rows x 5 columns]"
      ]
     },
     "execution_count": 4,
     "metadata": {},
     "output_type": "execute_result"
    }
   ],
   "source": [
    "data"
   ]
  },
  {
   "cell_type": "code",
   "execution_count": 5,
   "id": "e21ec733-ab7d-4fc6-ad67-e0fd6de290e1",
   "metadata": {},
   "outputs": [],
   "source": [
    "df = data[(data.index.hour != 14) & (data.index.minute != 30) & (data.index.minute != 45)]"
   ]
  },
  {
   "cell_type": "code",
   "execution_count": 7,
   "id": "5253f94b-cf2a-45ea-b75c-f958690a1726",
   "metadata": {},
   "outputs": [],
   "source": [
    "# Calculate Daily Change (Close - Previous Close)\n",
    "df['Prev_Close'] = df['Close'].shift(1)\n",
    "df['Daily_Change'] = df['Close'] - df['Prev_Close']\n",
    "\n",
    "# Define Bias:\n",
    "# 🔹 Bullish if price makes a higher high & close > open\n",
    "# 🔹 Bearish if price makes a lower low & close < open\n",
    "df['Higher_High'] = df['High'] > df['High'].shift(1)\n",
    "df['Lower_Low'] = df['Low'] < df['Low'].shift(1)\n",
    "df['Bullish_Close'] = df['Close'] > df['Open']\n",
    "df['Bearish_Close'] = df['Close'] < df['Open']\n",
    "\n",
    "# Determine Bias Based on Market Structure\n",
    "conditions = [\n",
    "    (df['Higher_High'] & df['Bullish_Close']),\n",
    "    (df['Lower_Low'] & df['Bearish_Close'])\n",
    "]\n",
    "choices = ['Bullish', 'Bearish']\n",
    "df['Daily_Bias'] = np.select(conditions, choices, default='Neutral')"
   ]
  },
  {
   "cell_type": "code",
   "execution_count": 10,
   "id": "7572a86d-d9dd-4989-ae03-8353241f917e",
   "metadata": {},
   "outputs": [],
   "source": [
    "_9am_df = df[(df.index.hour == 9) & (df.index.minute == 0)]"
   ]
  },
  {
   "cell_type": "code",
   "execution_count": 11,
   "id": "e01b75ec-f55a-4179-b99c-223ac989f5d0",
   "metadata": {},
   "outputs": [
    {
     "name": "stdout",
     "output_type": "stream",
     "text": [
      "                       Open    High     Low   Close Daily_Bias\n",
      "Date                                                          \n",
      "2025-02-12 09:00:00  1337.4  1340.2  1337.4  1340.2    Bullish\n",
      "2025-02-13 09:00:00  1331.9  1331.9  1330.2  1331.0    Bearish\n",
      "2025-02-14 09:00:00  1345.2  1348.9  1345.2  1347.6    Bullish\n",
      "2025-02-17 09:00:00  1342.0  1342.0  1339.5  1339.9    Bearish\n",
      "2025-02-18 09:00:00  1335.3  1335.3  1332.8  1333.1    Bearish\n",
      "2025-02-19 09:00:00  1337.3  1339.1  1337.3  1338.6    Bullish\n",
      "2025-02-20 09:00:00  1344.7  1347.5  1344.7  1347.4    Bullish\n",
      "2025-02-21 09:00:00  1345.0  1346.4  1344.7  1346.2    Neutral\n",
      "2025-02-24 09:00:00  1350.1  1352.2  1350.1  1352.1    Neutral\n",
      "2025-02-25 09:00:00  1367.0  1367.0  1365.6  1366.0    Neutral\n"
     ]
    }
   ],
   "source": [
    "\n",
    "# Display Last 10 Days\n",
    "print(_9am_df[['Open', 'High', 'Low', 'Close', 'Daily_Bias']].tail(10))"
   ]
  },
  {
   "cell_type": "code",
   "execution_count": null,
   "id": "9587d9e8-f859-448b-8655-1ade099d0430",
   "metadata": {},
   "outputs": [],
   "source": []
  }
 ],
 "metadata": {
  "kernelspec": {
   "display_name": "Python 3 (ipykernel)",
   "language": "python",
   "name": "python3"
  },
  "language_info": {
   "codemirror_mode": {
    "name": "ipython",
    "version": 3
   },
   "file_extension": ".py",
   "mimetype": "text/x-python",
   "name": "python",
   "nbconvert_exporter": "python",
   "pygments_lexer": "ipython3",
   "version": "3.11.4"
  }
 },
 "nbformat": 4,
 "nbformat_minor": 5
}
