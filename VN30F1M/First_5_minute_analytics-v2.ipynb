{
 "cells": [
  {
   "cell_type": "markdown",
   "id": "3bb3aa97-7914-4430-8beb-3faa67ba7dad",
   "metadata": {},
   "source": [
    "# Distribution by First bar of timeframe 5 minute - Analytics"
   ]
  },
  {
   "cell_type": "code",
   "execution_count": 2,
   "id": "7c843dc8-dd4b-4d8a-92d4-d87945459add",
   "metadata": {},
   "outputs": [],
   "source": [
    "# Analytic Distribution to open at Open 9:00 AM"
   ]
  },
  {
   "cell_type": "markdown",
   "id": "b4a3e1b0-889f-40f5-bfe1-ca5391c2a7ba",
   "metadata": {},
   "source": [
    "### Import Library"
   ]
  },
  {
   "cell_type": "code",
   "execution_count": 3,
   "id": "8ed51685-7682-46ce-9ab2-df7a6f6937c5",
   "metadata": {},
   "outputs": [],
   "source": [
    "import numpy as np\n",
    "import pandas as pd\n",
    "import numpy as np\n",
    "import pandas_ta as ta\n",
    "import seaborn as sns\n",
    "\n",
    "import matplotlib.pyplot as plt\n",
    "plt.rcParams['figure.figsize'] = [12, 6]\n",
    "plt.rcParams['figure.dpi'] = 120\n",
    "import warnings\n",
    "warnings.filterwarnings('ignore')"
   ]
  },
  {
   "cell_type": "markdown",
   "id": "fe85b31e-7106-4979-aba2-03093ade02ca",
   "metadata": {},
   "source": [
    "### Load Price Data"
   ]
  },
  {
   "cell_type": "code",
   "execution_count": 4,
   "id": "0f3bf6f4-aeb4-404e-932a-9afef6ea370a",
   "metadata": {},
   "outputs": [],
   "source": [
    "import os\n",
    "from pathlib import Path\n",
    "notebook_path = os.getcwd()\n",
    "current_dir = Path(notebook_path)\n",
    "csv_file = str(current_dir) + '/VN30F1M_5minutes.csv'\n",
    "is_file = os.path.isfile(csv_file)\n",
    "if is_file:\n",
    "    dataset = pd.read_csv(csv_file, index_col='Date', parse_dates=True)\n",
    "else:\n",
    "    print('remote')\n",
    "    dataset = pd.read_csv(\"https://raw.githubusercontent.com/zuongthaotn/vn-stock-data/main/VN30ps/VN30F1M_5minutes.csv\", index_col='Date', parse_dates=True)"
   ]
  },
  {
   "cell_type": "code",
   "execution_count": 5,
   "id": "eff99ef6-2921-4245-b40d-eb6ecee0bc12",
   "metadata": {},
   "outputs": [],
   "source": [
    "data = dataset.copy()"
   ]
  },
  {
   "cell_type": "code",
   "execution_count": 6,
   "id": "46ef1b62-48f5-44c5-b0ce-d019b6702894",
   "metadata": {},
   "outputs": [],
   "source": [
    "# data = data[(data.index > '2020-11-01 00:00:00') & (data.index < '2024-10-01 00:00:00')]\n",
    "data = data[data.index > '2020-11-01 00:00:00']"
   ]
  },
  {
   "cell_type": "code",
   "execution_count": 7,
   "id": "1fd3b0e4-aa77-43b7-b9c3-39a0fbf1e690",
   "metadata": {},
   "outputs": [
    {
     "data": {
      "text/html": [
       "<div>\n",
       "<style scoped>\n",
       "    .dataframe tbody tr th:only-of-type {\n",
       "        vertical-align: middle;\n",
       "    }\n",
       "\n",
       "    .dataframe tbody tr th {\n",
       "        vertical-align: top;\n",
       "    }\n",
       "\n",
       "    .dataframe thead th {\n",
       "        text-align: right;\n",
       "    }\n",
       "</style>\n",
       "<table border=\"1\" class=\"dataframe\">\n",
       "  <thead>\n",
       "    <tr style=\"text-align: right;\">\n",
       "      <th></th>\n",
       "      <th>Open</th>\n",
       "      <th>High</th>\n",
       "      <th>Low</th>\n",
       "      <th>Close</th>\n",
       "      <th>Volume</th>\n",
       "    </tr>\n",
       "    <tr>\n",
       "      <th>Date</th>\n",
       "      <th></th>\n",
       "      <th></th>\n",
       "      <th></th>\n",
       "      <th></th>\n",
       "      <th></th>\n",
       "    </tr>\n",
       "  </thead>\n",
       "  <tbody>\n",
       "    <tr>\n",
       "      <th>2020-11-02 09:00:00</th>\n",
       "      <td>900.1</td>\n",
       "      <td>900.2</td>\n",
       "      <td>899.3</td>\n",
       "      <td>900.1</td>\n",
       "      <td>1910</td>\n",
       "    </tr>\n",
       "    <tr>\n",
       "      <th>2020-11-02 09:05:00</th>\n",
       "      <td>900.2</td>\n",
       "      <td>900.2</td>\n",
       "      <td>898.7</td>\n",
       "      <td>899.4</td>\n",
       "      <td>1670</td>\n",
       "    </tr>\n",
       "    <tr>\n",
       "      <th>2020-11-02 09:10:00</th>\n",
       "      <td>899.5</td>\n",
       "      <td>900.0</td>\n",
       "      <td>899.0</td>\n",
       "      <td>899.5</td>\n",
       "      <td>1329</td>\n",
       "    </tr>\n",
       "    <tr>\n",
       "      <th>2020-11-02 09:15:00</th>\n",
       "      <td>899.4</td>\n",
       "      <td>899.5</td>\n",
       "      <td>898.2</td>\n",
       "      <td>898.6</td>\n",
       "      <td>1722</td>\n",
       "    </tr>\n",
       "    <tr>\n",
       "      <th>2020-11-02 09:20:00</th>\n",
       "      <td>898.5</td>\n",
       "      <td>898.6</td>\n",
       "      <td>896.5</td>\n",
       "      <td>898.2</td>\n",
       "      <td>2939</td>\n",
       "    </tr>\n",
       "    <tr>\n",
       "      <th>...</th>\n",
       "      <td>...</td>\n",
       "      <td>...</td>\n",
       "      <td>...</td>\n",
       "      <td>...</td>\n",
       "      <td>...</td>\n",
       "    </tr>\n",
       "    <tr>\n",
       "      <th>2025-02-25 14:15:00</th>\n",
       "      <td>1358.4</td>\n",
       "      <td>1360.8</td>\n",
       "      <td>1358.2</td>\n",
       "      <td>1360.5</td>\n",
       "      <td>6708</td>\n",
       "    </tr>\n",
       "    <tr>\n",
       "      <th>2025-02-25 14:20:00</th>\n",
       "      <td>1360.3</td>\n",
       "      <td>1362.1</td>\n",
       "      <td>1359.4</td>\n",
       "      <td>1361.0</td>\n",
       "      <td>7025</td>\n",
       "    </tr>\n",
       "    <tr>\n",
       "      <th>2025-02-25 14:25:00</th>\n",
       "      <td>1361.0</td>\n",
       "      <td>1362.2</td>\n",
       "      <td>1360.8</td>\n",
       "      <td>1361.7</td>\n",
       "      <td>4896</td>\n",
       "    </tr>\n",
       "    <tr>\n",
       "      <th>2025-02-25 14:30:00</th>\n",
       "      <td>1362.0</td>\n",
       "      <td>1362.0</td>\n",
       "      <td>1361.8</td>\n",
       "      <td>1361.8</td>\n",
       "      <td>180</td>\n",
       "    </tr>\n",
       "    <tr>\n",
       "      <th>2025-02-25 14:45:00</th>\n",
       "      <td>1359.8</td>\n",
       "      <td>1359.8</td>\n",
       "      <td>1359.8</td>\n",
       "      <td>1359.8</td>\n",
       "      <td>4885</td>\n",
       "    </tr>\n",
       "  </tbody>\n",
       "</table>\n",
       "<p>54839 rows × 5 columns</p>\n",
       "</div>"
      ],
      "text/plain": [
       "                       Open    High     Low   Close  Volume\n",
       "Date                                                       \n",
       "2020-11-02 09:00:00   900.1   900.2   899.3   900.1    1910\n",
       "2020-11-02 09:05:00   900.2   900.2   898.7   899.4    1670\n",
       "2020-11-02 09:10:00   899.5   900.0   899.0   899.5    1329\n",
       "2020-11-02 09:15:00   899.4   899.5   898.2   898.6    1722\n",
       "2020-11-02 09:20:00   898.5   898.6   896.5   898.2    2939\n",
       "...                     ...     ...     ...     ...     ...\n",
       "2025-02-25 14:15:00  1358.4  1360.8  1358.2  1360.5    6708\n",
       "2025-02-25 14:20:00  1360.3  1362.1  1359.4  1361.0    7025\n",
       "2025-02-25 14:25:00  1361.0  1362.2  1360.8  1361.7    4896\n",
       "2025-02-25 14:30:00  1362.0  1362.0  1361.8  1361.8     180\n",
       "2025-02-25 14:45:00  1359.8  1359.8  1359.8  1359.8    4885\n",
       "\n",
       "[54839 rows x 5 columns]"
      ]
     },
     "execution_count": 7,
     "metadata": {},
     "output_type": "execute_result"
    }
   ],
   "source": [
    "data"
   ]
  },
  {
   "cell_type": "markdown",
   "id": "a7d3cf67-43e3-40af-82b0-6b41077ab2c7",
   "metadata": {},
   "source": [
    "## Group labeling"
   ]
  },
  {
   "cell_type": "code",
   "execution_count": 8,
   "id": "a0091cce-3d92-4424-8b81-b1f6bfe720a3",
   "metadata": {},
   "outputs": [],
   "source": [
    "## 1 is min, 2 is max, 0 is not min not max\n",
    "groups = []\n",
    "for i, row in data.iterrows():\n",
    "    if row.name.hour == 9 and row.name.minute == 0:\n",
    "        current_date = row.name.strftime('%Y-%m-%d ').format()\n",
    "        current_time = row.name\n",
    "        data_to_end_day = data[(data.index >=  current_date + ' 09:05:00') & (data.index < current_date + ' 14:30:00')]\n",
    "        max_High = data_to_end_day['High'].max()\n",
    "        min_Low = data_to_end_day['Low'].min()\n",
    "        #\n",
    "        if row['Open'] > max_High - 3.5:\n",
    "            # Short\n",
    "            groups.append(2)\n",
    "        elif row['Open'] < min_Low + 3.5:\n",
    "            # Long\n",
    "            groups.append(1)\n",
    "        else:\n",
    "            groups.append(0)\n",
    "    else:\n",
    "        groups.append(0)"
   ]
  },
  {
   "cell_type": "code",
   "execution_count": 9,
   "id": "f5f8aead-34f6-4768-b802-54128f1d4769",
   "metadata": {},
   "outputs": [],
   "source": [
    "data['group'] = groups"
   ]
  },
  {
   "cell_type": "code",
   "execution_count": 10,
   "id": "7139ab2e-2508-4389-9a02-0a9c1ba7c287",
   "metadata": {},
   "outputs": [],
   "source": [
    "data_at_9h = data[(data.index.hour == 9) & (data.index.minute == 0)]"
   ]
  },
  {
   "cell_type": "code",
   "execution_count": 11,
   "id": "be9825d0-a32e-4ce7-b788-1cfeeb12847c",
   "metadata": {},
   "outputs": [
    {
     "data": {
      "text/html": [
       "<div>\n",
       "<style scoped>\n",
       "    .dataframe tbody tr th:only-of-type {\n",
       "        vertical-align: middle;\n",
       "    }\n",
       "\n",
       "    .dataframe tbody tr th {\n",
       "        vertical-align: top;\n",
       "    }\n",
       "\n",
       "    .dataframe thead th {\n",
       "        text-align: right;\n",
       "    }\n",
       "</style>\n",
       "<table border=\"1\" class=\"dataframe\">\n",
       "  <thead>\n",
       "    <tr style=\"text-align: right;\">\n",
       "      <th></th>\n",
       "      <th>Open</th>\n",
       "      <th>High</th>\n",
       "      <th>Low</th>\n",
       "      <th>Close</th>\n",
       "      <th>Volume</th>\n",
       "      <th>group</th>\n",
       "    </tr>\n",
       "    <tr>\n",
       "      <th>Date</th>\n",
       "      <th></th>\n",
       "      <th></th>\n",
       "      <th></th>\n",
       "      <th></th>\n",
       "      <th></th>\n",
       "      <th></th>\n",
       "    </tr>\n",
       "  </thead>\n",
       "  <tbody>\n",
       "    <tr>\n",
       "      <th>2020-11-02 09:00:00</th>\n",
       "      <td>900.1</td>\n",
       "      <td>900.2</td>\n",
       "      <td>899.3</td>\n",
       "      <td>900.1</td>\n",
       "      <td>1910</td>\n",
       "      <td>0</td>\n",
       "    </tr>\n",
       "    <tr>\n",
       "      <th>2020-11-03 09:00:00</th>\n",
       "      <td>909.3</td>\n",
       "      <td>909.4</td>\n",
       "      <td>908.5</td>\n",
       "      <td>908.8</td>\n",
       "      <td>1435</td>\n",
       "      <td>2</td>\n",
       "    </tr>\n",
       "    <tr>\n",
       "      <th>2020-11-04 09:00:00</th>\n",
       "      <td>909.0</td>\n",
       "      <td>909.9</td>\n",
       "      <td>908.8</td>\n",
       "      <td>908.9</td>\n",
       "      <td>1444</td>\n",
       "      <td>1</td>\n",
       "    </tr>\n",
       "    <tr>\n",
       "      <th>2020-11-05 09:00:00</th>\n",
       "      <td>913.7</td>\n",
       "      <td>914.7</td>\n",
       "      <td>913.6</td>\n",
       "      <td>913.6</td>\n",
       "      <td>2193</td>\n",
       "      <td>0</td>\n",
       "    </tr>\n",
       "    <tr>\n",
       "      <th>2020-11-06 09:00:00</th>\n",
       "      <td>911.2</td>\n",
       "      <td>912.0</td>\n",
       "      <td>911.2</td>\n",
       "      <td>911.9</td>\n",
       "      <td>1714</td>\n",
       "      <td>2</td>\n",
       "    </tr>\n",
       "    <tr>\n",
       "      <th>...</th>\n",
       "      <td>...</td>\n",
       "      <td>...</td>\n",
       "      <td>...</td>\n",
       "      <td>...</td>\n",
       "      <td>...</td>\n",
       "      <td>...</td>\n",
       "    </tr>\n",
       "    <tr>\n",
       "      <th>2025-02-19 09:00:00</th>\n",
       "      <td>1337.3</td>\n",
       "      <td>1339.1</td>\n",
       "      <td>1337.3</td>\n",
       "      <td>1338.6</td>\n",
       "      <td>4797</td>\n",
       "      <td>1</td>\n",
       "    </tr>\n",
       "    <tr>\n",
       "      <th>2025-02-20 09:00:00</th>\n",
       "      <td>1344.7</td>\n",
       "      <td>1347.5</td>\n",
       "      <td>1344.7</td>\n",
       "      <td>1347.4</td>\n",
       "      <td>5968</td>\n",
       "      <td>1</td>\n",
       "    </tr>\n",
       "    <tr>\n",
       "      <th>2025-02-21 09:00:00</th>\n",
       "      <td>1345.0</td>\n",
       "      <td>1346.4</td>\n",
       "      <td>1344.7</td>\n",
       "      <td>1346.2</td>\n",
       "      <td>8044</td>\n",
       "      <td>1</td>\n",
       "    </tr>\n",
       "    <tr>\n",
       "      <th>2025-02-24 09:00:00</th>\n",
       "      <td>1350.1</td>\n",
       "      <td>1352.2</td>\n",
       "      <td>1350.1</td>\n",
       "      <td>1352.1</td>\n",
       "      <td>7487</td>\n",
       "      <td>1</td>\n",
       "    </tr>\n",
       "    <tr>\n",
       "      <th>2025-02-25 09:00:00</th>\n",
       "      <td>1367.0</td>\n",
       "      <td>1367.0</td>\n",
       "      <td>1365.6</td>\n",
       "      <td>1366.0</td>\n",
       "      <td>4865</td>\n",
       "      <td>2</td>\n",
       "    </tr>\n",
       "  </tbody>\n",
       "</table>\n",
       "<p>1072 rows × 6 columns</p>\n",
       "</div>"
      ],
      "text/plain": [
       "                       Open    High     Low   Close  Volume  group\n",
       "Date                                                              \n",
       "2020-11-02 09:00:00   900.1   900.2   899.3   900.1    1910      0\n",
       "2020-11-03 09:00:00   909.3   909.4   908.5   908.8    1435      2\n",
       "2020-11-04 09:00:00   909.0   909.9   908.8   908.9    1444      1\n",
       "2020-11-05 09:00:00   913.7   914.7   913.6   913.6    2193      0\n",
       "2020-11-06 09:00:00   911.2   912.0   911.2   911.9    1714      2\n",
       "...                     ...     ...     ...     ...     ...    ...\n",
       "2025-02-19 09:00:00  1337.3  1339.1  1337.3  1338.6    4797      1\n",
       "2025-02-20 09:00:00  1344.7  1347.5  1344.7  1347.4    5968      1\n",
       "2025-02-21 09:00:00  1345.0  1346.4  1344.7  1346.2    8044      1\n",
       "2025-02-24 09:00:00  1350.1  1352.2  1350.1  1352.1    7487      1\n",
       "2025-02-25 09:00:00  1367.0  1367.0  1365.6  1366.0    4865      2\n",
       "\n",
       "[1072 rows x 6 columns]"
      ]
     },
     "execution_count": 11,
     "metadata": {},
     "output_type": "execute_result"
    }
   ],
   "source": [
    "data_at_9h"
   ]
  },
  {
   "cell_type": "code",
   "execution_count": 12,
   "id": "d8278f53-b0ba-4969-bbe1-8cdc8457b8aa",
   "metadata": {},
   "outputs": [
    {
     "data": {
      "text/plain": [
       "<Axes: xlabel='group'>"
      ]
     },
     "execution_count": 12,
     "metadata": {},
     "output_type": "execute_result"
    },
    {
     "data": {
      "image/png": "[encoded data removed]",
      "text/plain": [
       "<Figure size 1440x720 with 1 Axes>"
      ]
     },
     "metadata": {},
     "output_type": "display_data"
    }
   ],
   "source": [
    "data9h_grouped_by_hour = data_at_9h.groupby(['group'])[['Open']].count()\n",
    "data9h_grouped_by_hour.plot.bar()"
   ]
  },
  {
   "cell_type": "markdown",
   "id": "48c52e36-0b4b-4090-93e9-b7d9bc187573",
   "metadata": {},
   "source": [
    "## RSI & Group relationship"
   ]
  },
  {
   "cell_type": "code",
   "execution_count": 13,
   "id": "ed40c9b8-e0b2-4473-96a4-8a078bb75040",
   "metadata": {},
   "outputs": [],
   "source": [
    "df1 = data.copy()\n",
    "df1['RSI'] = ta.rsi(df1[\"Close\"], length=14)\n",
    "df1['RSI'] = round(df1['RSI'])\n",
    "data_at_9h = df1[(df1.index.hour == 9) & (df1.index.minute == 0)]\n",
    "data_at_9h.dropna(inplace=True)"
   ]
  },
  {
   "cell_type": "code",
   "execution_count": 14,
   "id": "f183b12b-d650-4bae-8818-453428852306",
   "metadata": {},
   "outputs": [
    {
     "data": {
      "text/plain": [
       "<Axes: xlabel='RSI'>"
      ]
     },
     "execution_count": 14,
     "metadata": {},
     "output_type": "execute_result"
    },
    {
     "data": {
      "image/png": "[encoded data removed]",
      "text/plain": [
       "<Figure size 1440x720 with 1 Axes>"
      ]
     },
     "metadata": {},
     "output_type": "display_data"
    }
   ],
   "source": [
    "data_at_9h_grouped_by_rsi = data_at_9h.groupby(['RSI', 'group'])['RSI'].count().rename({'RSI': 'count'})\n",
    "data_at_9h_grouped_by_rsi.unstack().plot.bar()"
   ]
  },
  {
   "cell_type": "code",
   "execution_count": null,
   "id": "93ff88d8-9b92-4246-8aea-16c79d86a3e0",
   "metadata": {},
   "outputs": [],
   "source": []
  }
 ],
 "metadata": {
  "kernelspec": {
   "display_name": "Python 3 (ipykernel)",
   "language": "python",
   "name": "python3"
  },
  "language_info": {
   "codemirror_mode": {
    "name": "ipython",
    "version": 3
   },
   "file_extension": ".py",
   "mimetype": "text/x-python",
   "name": "python",
   "nbconvert_exporter": "python",
   "pygments_lexer": "ipython3",
   "version": "3.11.4"
  }
 },
 "nbformat": 4,
 "nbformat_minor": 5
}
