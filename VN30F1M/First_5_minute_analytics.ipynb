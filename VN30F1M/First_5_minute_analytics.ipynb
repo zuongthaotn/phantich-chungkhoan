{
 "cells": [
  {
   "cell_type": "markdown",
   "id": "3bb3aa97-7914-4430-8beb-3faa67ba7dad",
   "metadata": {},
   "source": [
    "# Distribution by First bar of timeframe 5 minute - Analytics"
   ]
  },
  {
   "cell_type": "markdown",
   "id": "b4a3e1b0-889f-40f5-bfe1-ca5391c2a7ba",
   "metadata": {},
   "source": [
    "### Import Library"
   ]
  },
  {
   "cell_type": "code",
   "execution_count": 26,
   "id": "8ed51685-7682-46ce-9ab2-df7a6f6937c5",
   "metadata": {},
   "outputs": [],
   "source": [
    "import numpy as np\n",
    "import pandas as pd\n",
    "import numpy as np\n",
    "import pandas_ta as ta\n",
    "import seaborn as sns\n",
    "\n",
    "import matplotlib.pyplot as plt\n",
    "plt.rcParams['figure.figsize'] = [12, 6]\n",
    "plt.rcParams['figure.dpi'] = 120\n",
    "import warnings\n",
    "warnings.filterwarnings('ignore')"
   ]
  },
  {
   "cell_type": "markdown",
   "id": "fe85b31e-7106-4979-aba2-03093ade02ca",
   "metadata": {},
   "source": [
    "### Load Price Data"
   ]
  },
  {
   "cell_type": "code",
   "execution_count": 27,
   "id": "0f3bf6f4-aeb4-404e-932a-9afef6ea370a",
   "metadata": {},
   "outputs": [],
   "source": [
    "import os\n",
    "from pathlib import Path\n",
    "notebook_path = os.getcwd()\n",
    "current_dir = Path(notebook_path)\n",
    "csv_file = str(current_dir) + '/VN30F1M_5minutes.csv'\n",
    "is_file = os.path.isfile(csv_file)\n",
    "if is_file:\n",
    "    dataset = pd.read_csv(csv_file, index_col='Date', parse_dates=True)\n",
    "else:\n",
    "    print('remote')\n",
    "    dataset = pd.read_csv(\"https://raw.githubusercontent.com/zuongthaotn/vn-stock-data/main/VN30ps/VN30F1M_5minutes.csv\", index_col='Date', parse_dates=True)"
   ]
  },
  {
   "cell_type": "code",
   "execution_count": 28,
   "id": "eff99ef6-2921-4245-b40d-eb6ecee0bc12",
   "metadata": {},
   "outputs": [],
   "source": [
    "data = dataset.copy()"
   ]
  },
  {
   "cell_type": "code",
   "execution_count": 29,
   "id": "46ef1b62-48f5-44c5-b0ce-d019b6702894",
   "metadata": {},
   "outputs": [],
   "source": [
    "# data = data[(data.index > '2020-11-01 00:00:00') & (data.index < '2024-10-01 00:00:00')]\n",
    "data = data[data.index > '2020-11-01 00:00:00']"
   ]
  },
  {
   "cell_type": "code",
   "execution_count": 30,
   "id": "1fd3b0e4-aa77-43b7-b9c3-39a0fbf1e690",
   "metadata": {},
   "outputs": [
    {
     "data": {
      "text/html": [
       "<div>\n",
       "<style scoped>\n",
       "    .dataframe tbody tr th:only-of-type {\n",
       "        vertical-align: middle;\n",
       "    }\n",
       "\n",
       "    .dataframe tbody tr th {\n",
       "        vertical-align: top;\n",
       "    }\n",
       "\n",
       "    .dataframe thead th {\n",
       "        text-align: right;\n",
       "    }\n",
       "</style>\n",
       "<table border=\"1\" class=\"dataframe\">\n",
       "  <thead>\n",
       "    <tr style=\"text-align: right;\">\n",
       "      <th></th>\n",
       "      <th>Open</th>\n",
       "      <th>High</th>\n",
       "      <th>Low</th>\n",
       "      <th>Close</th>\n",
       "      <th>Volume</th>\n",
       "    </tr>\n",
       "    <tr>\n",
       "      <th>Date</th>\n",
       "      <th></th>\n",
       "      <th></th>\n",
       "      <th></th>\n",
       "      <th></th>\n",
       "      <th></th>\n",
       "    </tr>\n",
       "  </thead>\n",
       "  <tbody>\n",
       "    <tr>\n",
       "      <th>2020-11-02 09:00:00</th>\n",
       "      <td>900.1</td>\n",
       "      <td>900.2</td>\n",
       "      <td>899.3</td>\n",
       "      <td>900.1</td>\n",
       "      <td>1910</td>\n",
       "    </tr>\n",
       "    <tr>\n",
       "      <th>2020-11-02 09:05:00</th>\n",
       "      <td>900.2</td>\n",
       "      <td>900.2</td>\n",
       "      <td>898.7</td>\n",
       "      <td>899.4</td>\n",
       "      <td>1670</td>\n",
       "    </tr>\n",
       "    <tr>\n",
       "      <th>2020-11-02 09:10:00</th>\n",
       "      <td>899.5</td>\n",
       "      <td>900.0</td>\n",
       "      <td>899.0</td>\n",
       "      <td>899.5</td>\n",
       "      <td>1329</td>\n",
       "    </tr>\n",
       "    <tr>\n",
       "      <th>2020-11-02 09:15:00</th>\n",
       "      <td>899.4</td>\n",
       "      <td>899.5</td>\n",
       "      <td>898.2</td>\n",
       "      <td>898.6</td>\n",
       "      <td>1722</td>\n",
       "    </tr>\n",
       "    <tr>\n",
       "      <th>2020-11-02 09:20:00</th>\n",
       "      <td>898.5</td>\n",
       "      <td>898.6</td>\n",
       "      <td>896.5</td>\n",
       "      <td>898.2</td>\n",
       "      <td>2939</td>\n",
       "    </tr>\n",
       "    <tr>\n",
       "      <th>...</th>\n",
       "      <td>...</td>\n",
       "      <td>...</td>\n",
       "      <td>...</td>\n",
       "      <td>...</td>\n",
       "      <td>...</td>\n",
       "    </tr>\n",
       "    <tr>\n",
       "      <th>2024-09-30 14:15:00</th>\n",
       "      <td>1353.1</td>\n",
       "      <td>1353.9</td>\n",
       "      <td>1351.5</td>\n",
       "      <td>1353.1</td>\n",
       "      <td>6265</td>\n",
       "    </tr>\n",
       "    <tr>\n",
       "      <th>2024-09-30 14:20:00</th>\n",
       "      <td>1353.0</td>\n",
       "      <td>1354.7</td>\n",
       "      <td>1352.6</td>\n",
       "      <td>1354.6</td>\n",
       "      <td>4426</td>\n",
       "    </tr>\n",
       "    <tr>\n",
       "      <th>2024-09-30 14:25:00</th>\n",
       "      <td>1354.6</td>\n",
       "      <td>1356.3</td>\n",
       "      <td>1354.1</td>\n",
       "      <td>1355.9</td>\n",
       "      <td>7920</td>\n",
       "    </tr>\n",
       "    <tr>\n",
       "      <th>2024-09-30 14:30:00</th>\n",
       "      <td>1355.7</td>\n",
       "      <td>1355.8</td>\n",
       "      <td>1355.7</td>\n",
       "      <td>1355.8</td>\n",
       "      <td>38</td>\n",
       "    </tr>\n",
       "    <tr>\n",
       "      <th>2024-09-30 14:45:00</th>\n",
       "      <td>1357.0</td>\n",
       "      <td>1357.0</td>\n",
       "      <td>1357.0</td>\n",
       "      <td>1357.0</td>\n",
       "      <td>5549</td>\n",
       "    </tr>\n",
       "  </tbody>\n",
       "</table>\n",
       "<p>49748 rows × 5 columns</p>\n",
       "</div>"
      ],
      "text/plain": [
       "                       Open    High     Low   Close  Volume\n",
       "Date                                                       \n",
       "2020-11-02 09:00:00   900.1   900.2   899.3   900.1    1910\n",
       "2020-11-02 09:05:00   900.2   900.2   898.7   899.4    1670\n",
       "2020-11-02 09:10:00   899.5   900.0   899.0   899.5    1329\n",
       "2020-11-02 09:15:00   899.4   899.5   898.2   898.6    1722\n",
       "2020-11-02 09:20:00   898.5   898.6   896.5   898.2    2939\n",
       "...                     ...     ...     ...     ...     ...\n",
       "2024-09-30 14:15:00  1353.1  1353.9  1351.5  1353.1    6265\n",
       "2024-09-30 14:20:00  1353.0  1354.7  1352.6  1354.6    4426\n",
       "2024-09-30 14:25:00  1354.6  1356.3  1354.1  1355.9    7920\n",
       "2024-09-30 14:30:00  1355.7  1355.8  1355.7  1355.8      38\n",
       "2024-09-30 14:45:00  1357.0  1357.0  1357.0  1357.0    5549\n",
       "\n",
       "[49748 rows x 5 columns]"
      ]
     },
     "execution_count": 30,
     "metadata": {},
     "output_type": "execute_result"
    }
   ],
   "source": [
    "data"
   ]
  },
  {
   "cell_type": "code",
   "execution_count": 31,
   "id": "72318fc3-4e24-4958-975c-d1ca8f566b34",
   "metadata": {},
   "outputs": [],
   "source": [
    "data['gap'] = data['Open'] - data['Close'].shift(1)"
   ]
  },
  {
   "cell_type": "markdown",
   "id": "a7d3cf67-43e3-40af-82b0-6b41077ab2c7",
   "metadata": {},
   "source": [
    "## Group labeling"
   ]
  },
  {
   "cell_type": "code",
   "execution_count": 32,
   "id": "a0091cce-3d92-4424-8b81-b1f6bfe720a3",
   "metadata": {},
   "outputs": [],
   "source": [
    "## 1 is min, 2 is max, 0 is not min not max\n",
    "groups = []\n",
    "for i, row in data.iterrows():\n",
    "    if row.name.hour == 9 and row.name.minute == 0:\n",
    "        current_date = row.name.strftime('%Y-%m-%d ').format()\n",
    "        current_time = row.name\n",
    "        data_to_end_day = data[(data.index >=  current_date + ' 09:05:00') & (data.index < current_date + ' 14:30:00')]\n",
    "        max_High = data_to_end_day['High'].max()\n",
    "        min_Low = data_to_end_day['Low'].min()\n",
    "        #\n",
    "        if row['Close'] > max_High - 3.5:\n",
    "            # Short\n",
    "            groups.append(2)\n",
    "        elif row['Close'] < min_Low + 3.5:\n",
    "            # Long\n",
    "            groups.append(1)\n",
    "        else:\n",
    "            groups.append(0)\n",
    "    else:\n",
    "        groups.append(0)"
   ]
  },
  {
   "cell_type": "code",
   "execution_count": 33,
   "id": "f5f8aead-34f6-4768-b802-54128f1d4769",
   "metadata": {},
   "outputs": [],
   "source": [
    "data['group'] = groups"
   ]
  },
  {
   "cell_type": "code",
   "execution_count": 34,
   "id": "7139ab2e-2508-4389-9a02-0a9c1ba7c287",
   "metadata": {},
   "outputs": [],
   "source": [
    "data_at_9h = data[(data.index.hour == 9) & (data.index.minute == 0)]"
   ]
  },
  {
   "cell_type": "code",
   "execution_count": 35,
   "id": "be9825d0-a32e-4ce7-b788-1cfeeb12847c",
   "metadata": {},
   "outputs": [
    {
     "data": {
      "text/html": [
       "<div>\n",
       "<style scoped>\n",
       "    .dataframe tbody tr th:only-of-type {\n",
       "        vertical-align: middle;\n",
       "    }\n",
       "\n",
       "    .dataframe tbody tr th {\n",
       "        vertical-align: top;\n",
       "    }\n",
       "\n",
       "    .dataframe thead th {\n",
       "        text-align: right;\n",
       "    }\n",
       "</style>\n",
       "<table border=\"1\" class=\"dataframe\">\n",
       "  <thead>\n",
       "    <tr style=\"text-align: right;\">\n",
       "      <th></th>\n",
       "      <th>Open</th>\n",
       "      <th>High</th>\n",
       "      <th>Low</th>\n",
       "      <th>Close</th>\n",
       "      <th>Volume</th>\n",
       "      <th>gap</th>\n",
       "      <th>group</th>\n",
       "    </tr>\n",
       "    <tr>\n",
       "      <th>Date</th>\n",
       "      <th></th>\n",
       "      <th></th>\n",
       "      <th></th>\n",
       "      <th></th>\n",
       "      <th></th>\n",
       "      <th></th>\n",
       "      <th></th>\n",
       "    </tr>\n",
       "  </thead>\n",
       "  <tbody>\n",
       "    <tr>\n",
       "      <th>2020-11-02 09:00:00</th>\n",
       "      <td>900.1</td>\n",
       "      <td>900.2</td>\n",
       "      <td>899.3</td>\n",
       "      <td>900.1</td>\n",
       "      <td>1910</td>\n",
       "      <td>NaN</td>\n",
       "      <td>0</td>\n",
       "    </tr>\n",
       "    <tr>\n",
       "      <th>2020-11-03 09:00:00</th>\n",
       "      <td>909.3</td>\n",
       "      <td>909.4</td>\n",
       "      <td>908.5</td>\n",
       "      <td>908.8</td>\n",
       "      <td>1435</td>\n",
       "      <td>5.3</td>\n",
       "      <td>2</td>\n",
       "    </tr>\n",
       "    <tr>\n",
       "      <th>2020-11-04 09:00:00</th>\n",
       "      <td>909.0</td>\n",
       "      <td>909.9</td>\n",
       "      <td>908.8</td>\n",
       "      <td>908.9</td>\n",
       "      <td>1444</td>\n",
       "      <td>0.7</td>\n",
       "      <td>1</td>\n",
       "    </tr>\n",
       "    <tr>\n",
       "      <th>2020-11-05 09:00:00</th>\n",
       "      <td>913.7</td>\n",
       "      <td>914.7</td>\n",
       "      <td>913.6</td>\n",
       "      <td>913.6</td>\n",
       "      <td>2193</td>\n",
       "      <td>1.4</td>\n",
       "      <td>0</td>\n",
       "    </tr>\n",
       "    <tr>\n",
       "      <th>2020-11-06 09:00:00</th>\n",
       "      <td>911.2</td>\n",
       "      <td>912.0</td>\n",
       "      <td>911.2</td>\n",
       "      <td>911.9</td>\n",
       "      <td>1714</td>\n",
       "      <td>1.0</td>\n",
       "      <td>2</td>\n",
       "    </tr>\n",
       "    <tr>\n",
       "      <th>...</th>\n",
       "      <td>...</td>\n",
       "      <td>...</td>\n",
       "      <td>...</td>\n",
       "      <td>...</td>\n",
       "      <td>...</td>\n",
       "      <td>...</td>\n",
       "      <td>...</td>\n",
       "    </tr>\n",
       "    <tr>\n",
       "      <th>2024-09-24 09:00:00</th>\n",
       "      <td>1326.0</td>\n",
       "      <td>1326.0</td>\n",
       "      <td>1325.3</td>\n",
       "      <td>1325.3</td>\n",
       "      <td>3123</td>\n",
       "      <td>0.5</td>\n",
       "      <td>1</td>\n",
       "    </tr>\n",
       "    <tr>\n",
       "      <th>2024-09-25 09:00:00</th>\n",
       "      <td>1337.3</td>\n",
       "      <td>1338.5</td>\n",
       "      <td>1336.9</td>\n",
       "      <td>1337.6</td>\n",
       "      <td>6004</td>\n",
       "      <td>2.3</td>\n",
       "      <td>1</td>\n",
       "    </tr>\n",
       "    <tr>\n",
       "      <th>2024-09-26 09:00:00</th>\n",
       "      <td>1345.9</td>\n",
       "      <td>1346.5</td>\n",
       "      <td>1345.2</td>\n",
       "      <td>1346.4</td>\n",
       "      <td>4948</td>\n",
       "      <td>1.9</td>\n",
       "      <td>1</td>\n",
       "    </tr>\n",
       "    <tr>\n",
       "      <th>2024-09-27 09:00:00</th>\n",
       "      <td>1358.1</td>\n",
       "      <td>1359.0</td>\n",
       "      <td>1357.7</td>\n",
       "      <td>1358.0</td>\n",
       "      <td>5435</td>\n",
       "      <td>1.7</td>\n",
       "      <td>0</td>\n",
       "    </tr>\n",
       "    <tr>\n",
       "      <th>2024-09-30 09:00:00</th>\n",
       "      <td>1352.6</td>\n",
       "      <td>1352.6</td>\n",
       "      <td>1351.1</td>\n",
       "      <td>1352.2</td>\n",
       "      <td>6105</td>\n",
       "      <td>-2.9</td>\n",
       "      <td>1</td>\n",
       "    </tr>\n",
       "  </tbody>\n",
       "</table>\n",
       "<p>974 rows × 7 columns</p>\n",
       "</div>"
      ],
      "text/plain": [
       "                       Open    High     Low   Close  Volume  gap  group\n",
       "Date                                                                   \n",
       "2020-11-02 09:00:00   900.1   900.2   899.3   900.1    1910  NaN      0\n",
       "2020-11-03 09:00:00   909.3   909.4   908.5   908.8    1435  5.3      2\n",
       "2020-11-04 09:00:00   909.0   909.9   908.8   908.9    1444  0.7      1\n",
       "2020-11-05 09:00:00   913.7   914.7   913.6   913.6    2193  1.4      0\n",
       "2020-11-06 09:00:00   911.2   912.0   911.2   911.9    1714  1.0      2\n",
       "...                     ...     ...     ...     ...     ...  ...    ...\n",
       "2024-09-24 09:00:00  1326.0  1326.0  1325.3  1325.3    3123  0.5      1\n",
       "2024-09-25 09:00:00  1337.3  1338.5  1336.9  1337.6    6004  2.3      1\n",
       "2024-09-26 09:00:00  1345.9  1346.5  1345.2  1346.4    4948  1.9      1\n",
       "2024-09-27 09:00:00  1358.1  1359.0  1357.7  1358.0    5435  1.7      0\n",
       "2024-09-30 09:00:00  1352.6  1352.6  1351.1  1352.2    6105 -2.9      1\n",
       "\n",
       "[974 rows x 7 columns]"
      ]
     },
     "execution_count": 35,
     "metadata": {},
     "output_type": "execute_result"
    }
   ],
   "source": [
    "data_at_9h"
   ]
  },
  {
   "cell_type": "code",
   "execution_count": 37,
   "id": "d8278f53-b0ba-4969-bbe1-8cdc8457b8aa",
   "metadata": {},
   "outputs": [
    {
     "data": {
      "text/plain": [
       "<Axes: xlabel='group'>"
      ]
     },
     "execution_count": 37,
     "metadata": {},
     "output_type": "execute_result"
    },
    {
     "data": {
      "image/png": "[encoded data removed]",
      "text/plain": [
       "<Figure size 1440x720 with 1 Axes>"
      ]
     },
     "metadata": {},
     "output_type": "display_data"
    }
   ],
   "source": [
    "data9h_grouped_by_hour = data_at_9h.groupby(['group'])[['Close']].count()\n",
    "data9h_grouped_by_hour.plot.bar()"
   ]
  },
  {
   "cell_type": "markdown",
   "id": "48c52e36-0b4b-4090-93e9-b7d9bc187573",
   "metadata": {},
   "source": [
    "## RSI & Group relationship"
   ]
  },
  {
   "cell_type": "code",
   "execution_count": 45,
   "id": "ed40c9b8-e0b2-4473-96a4-8a078bb75040",
   "metadata": {},
   "outputs": [],
   "source": [
    "df1 = data.copy()\n",
    "df1['RSI'] = ta.rsi(df1[\"Close\"], length=14)\n",
    "df1['RSI'] = round(df1['RSI'])\n",
    "data_at_9h = df1[(df1.index.hour == 9) & (df1.index.minute == 0)]\n",
    "data_at_9h.dropna(inplace=True)"
   ]
  },
  {
   "cell_type": "code",
   "execution_count": 51,
   "id": "f183b12b-d650-4bae-8818-453428852306",
   "metadata": {},
   "outputs": [
    {
     "data": {
      "text/plain": [
       "<Axes: xlabel='RSI'>"
      ]
     },
     "execution_count": 51,
     "metadata": {},
     "output_type": "execute_result"
    },
    {
     "data": {
      "image/png": "[encoded data removed]",
      "text/plain": [
       "<Figure size 1440x720 with 1 Axes>"
      ]
     },
     "metadata": {},
     "output_type": "display_data"
    }
   ],
   "source": [
    "data_at_9h_grouped_by_rsi = data_at_9h.groupby(['RSI', 'group'])['RSI'].count().rename({'RSI': 'count'})\n",
    "data_at_9h_grouped_by_rsi.unstack().plot.bar()"
   ]
  }
 ],
 "metadata": {
  "kernelspec": {
   "display_name": "Python 3 (ipykernel)",
   "language": "python",
   "name": "python3"
  },
  "language_info": {
   "codemirror_mode": {
    "name": "ipython",
    "version": 3
   },
   "file_extension": ".py",
   "mimetype": "text/x-python",
   "name": "python",
   "nbconvert_exporter": "python",
   "pygments_lexer": "ipython3",
   "version": "3.11.4"
  }
 },
 "nbformat": 4,
 "nbformat_minor": 5
}
