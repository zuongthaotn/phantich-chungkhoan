{
 "cells": [
  {
   "cell_type": "markdown",
   "id": "3bb3aa97-7914-4430-8beb-3faa67ba7dad",
   "metadata": {},
   "source": [
    "# Distribution by long tail candlestick - Analytics"
   ]
  },
  {
   "cell_type": "markdown",
   "id": "b4a3e1b0-889f-40f5-bfe1-ca5391c2a7ba",
   "metadata": {},
   "source": [
    "### Import Library"
   ]
  },
  {
   "cell_type": "code",
   "execution_count": 43,
   "id": "8ed51685-7682-46ce-9ab2-df7a6f6937c5",
   "metadata": {},
   "outputs": [],
   "source": [
    "import numpy as np\n",
    "import pandas as pd\n",
    "import numpy as np\n",
    "import pandas_ta as ta\n",
    "import seaborn as sns\n",
    "\n",
    "import matplotlib.pyplot as plt\n",
    "plt.rcParams['figure.figsize'] = [12, 6]\n",
    "plt.rcParams['figure.dpi'] = 120\n",
    "import warnings\n",
    "warnings.filterwarnings('ignore')"
   ]
  },
  {
   "cell_type": "markdown",
   "id": "fe85b31e-7106-4979-aba2-03093ade02ca",
   "metadata": {},
   "source": [
    "### Load Price Data"
   ]
  },
  {
   "cell_type": "code",
   "execution_count": 44,
   "id": "0f3bf6f4-aeb4-404e-932a-9afef6ea370a",
   "metadata": {},
   "outputs": [],
   "source": [
    "import os\n",
    "from pathlib import Path\n",
    "notebook_path = os.getcwd()\n",
    "current_dir = Path(notebook_path)\n",
    "csv_file = str(current_dir) + '/VN30F1M_5minutes.csv'\n",
    "is_file = os.path.isfile(csv_file)\n",
    "if is_file:\n",
    "    dataset = pd.read_csv(csv_file, index_col='Date', parse_dates=True)\n",
    "else:\n",
    "    print('remote')\n",
    "    dataset = pd.read_csv(\"https://raw.githubusercontent.com/zuongthaotn/vn-stock-data/main/VN30ps/VN30F1M_5minutes.csv\", index_col='Date', parse_dates=True)"
   ]
  },
  {
   "cell_type": "code",
   "execution_count": 45,
   "id": "eff99ef6-2921-4245-b40d-eb6ecee0bc12",
   "metadata": {},
   "outputs": [],
   "source": [
    "data = dataset.copy()"
   ]
  },
  {
   "cell_type": "code",
   "execution_count": 46,
   "id": "1fd3b0e4-aa77-43b7-b9c3-39a0fbf1e690",
   "metadata": {},
   "outputs": [],
   "source": [
    "# data = data[(data.index > '2020-11-01 00:00:00') & (data.index < '2024-10-01 00:00:00')]\n",
    "data = data[data.index > '2020-11-01 00:00:00']"
   ]
  },
  {
   "cell_type": "code",
   "execution_count": 47,
   "id": "11e66cb8-1ce2-4bef-acd7-a2c444a8db29",
   "metadata": {},
   "outputs": [],
   "source": [
    "long_tail_length = 1.9\n",
    "data['tail'] = data.apply(lambda r: max(min(r['Close'], r['Open']) - r['Low'], r['High'] - max(r['Close'], r['Open'])), axis=1)\n",
    "data['is_longtail'] = data.apply(lambda r: True if r['tail'] > long_tail_length else False, axis=1)"
   ]
  },
  {
   "cell_type": "code",
   "execution_count": 48,
   "id": "72a11476-9609-477d-826f-03461c4e145d",
   "metadata": {},
   "outputs": [
    {
     "data": {
      "text/html": [
       "<div>\n",
       "<style scoped>\n",
       "    .dataframe tbody tr th:only-of-type {\n",
       "        vertical-align: middle;\n",
       "    }\n",
       "\n",
       "    .dataframe tbody tr th {\n",
       "        vertical-align: top;\n",
       "    }\n",
       "\n",
       "    .dataframe thead th {\n",
       "        text-align: right;\n",
       "    }\n",
       "</style>\n",
       "<table border=\"1\" class=\"dataframe\">\n",
       "  <thead>\n",
       "    <tr style=\"text-align: right;\">\n",
       "      <th></th>\n",
       "      <th>Open</th>\n",
       "      <th>High</th>\n",
       "      <th>Low</th>\n",
       "      <th>Close</th>\n",
       "      <th>Volume</th>\n",
       "      <th>tail</th>\n",
       "      <th>is_longtail</th>\n",
       "    </tr>\n",
       "    <tr>\n",
       "      <th>Date</th>\n",
       "      <th></th>\n",
       "      <th></th>\n",
       "      <th></th>\n",
       "      <th></th>\n",
       "      <th></th>\n",
       "      <th></th>\n",
       "      <th></th>\n",
       "    </tr>\n",
       "  </thead>\n",
       "  <tbody>\n",
       "    <tr>\n",
       "      <th>2020-11-03 14:00:00</th>\n",
       "      <td>906.1</td>\n",
       "      <td>908.5</td>\n",
       "      <td>906.1</td>\n",
       "      <td>906.3</td>\n",
       "      <td>6841</td>\n",
       "      <td>2.2</td>\n",
       "      <td>True</td>\n",
       "    </tr>\n",
       "    <tr>\n",
       "      <th>2020-11-04 14:20:00</th>\n",
       "      <td>915.2</td>\n",
       "      <td>915.2</td>\n",
       "      <td>910.2</td>\n",
       "      <td>912.6</td>\n",
       "      <td>8136</td>\n",
       "      <td>2.4</td>\n",
       "      <td>True</td>\n",
       "    </tr>\n",
       "    <tr>\n",
       "      <th>2020-11-16 13:10:00</th>\n",
       "      <td>932.0</td>\n",
       "      <td>934.7</td>\n",
       "      <td>930.3</td>\n",
       "      <td>931.3</td>\n",
       "      <td>4468</td>\n",
       "      <td>2.7</td>\n",
       "      <td>True</td>\n",
       "    </tr>\n",
       "    <tr>\n",
       "      <th>2020-11-16 13:50:00</th>\n",
       "      <td>929.0</td>\n",
       "      <td>929.4</td>\n",
       "      <td>925.5</td>\n",
       "      <td>928.2</td>\n",
       "      <td>5747</td>\n",
       "      <td>2.7</td>\n",
       "      <td>True</td>\n",
       "    </tr>\n",
       "    <tr>\n",
       "      <th>2020-11-16 14:05:00</th>\n",
       "      <td>929.5</td>\n",
       "      <td>930.2</td>\n",
       "      <td>926.2</td>\n",
       "      <td>929.0</td>\n",
       "      <td>6304</td>\n",
       "      <td>2.8</td>\n",
       "      <td>True</td>\n",
       "    </tr>\n",
       "    <tr>\n",
       "      <th>...</th>\n",
       "      <td>...</td>\n",
       "      <td>...</td>\n",
       "      <td>...</td>\n",
       "      <td>...</td>\n",
       "      <td>...</td>\n",
       "      <td>...</td>\n",
       "      <td>...</td>\n",
       "    </tr>\n",
       "    <tr>\n",
       "      <th>2025-02-03 09:10:00</th>\n",
       "      <td>1324.8</td>\n",
       "      <td>1326.0</td>\n",
       "      <td>1322.7</td>\n",
       "      <td>1325.5</td>\n",
       "      <td>3600</td>\n",
       "      <td>2.1</td>\n",
       "      <td>True</td>\n",
       "    </tr>\n",
       "    <tr>\n",
       "      <th>2025-02-04 09:00:00</th>\n",
       "      <td>1325.5</td>\n",
       "      <td>1327.7</td>\n",
       "      <td>1324.2</td>\n",
       "      <td>1325.5</td>\n",
       "      <td>11561</td>\n",
       "      <td>2.2</td>\n",
       "      <td>True</td>\n",
       "    </tr>\n",
       "    <tr>\n",
       "      <th>2025-02-07 13:40:00</th>\n",
       "      <td>1343.9</td>\n",
       "      <td>1347.4</td>\n",
       "      <td>1343.8</td>\n",
       "      <td>1345.3</td>\n",
       "      <td>14175</td>\n",
       "      <td>2.1</td>\n",
       "      <td>True</td>\n",
       "    </tr>\n",
       "    <tr>\n",
       "      <th>2025-02-10 09:00:00</th>\n",
       "      <td>1333.4</td>\n",
       "      <td>1333.4</td>\n",
       "      <td>1330.0</td>\n",
       "      <td>1332.0</td>\n",
       "      <td>12980</td>\n",
       "      <td>2.0</td>\n",
       "      <td>True</td>\n",
       "    </tr>\n",
       "    <tr>\n",
       "      <th>2025-02-10 09:45:00</th>\n",
       "      <td>1327.2</td>\n",
       "      <td>1327.8</td>\n",
       "      <td>1325.2</td>\n",
       "      <td>1327.5</td>\n",
       "      <td>7722</td>\n",
       "      <td>2.0</td>\n",
       "      <td>True</td>\n",
       "    </tr>\n",
       "  </tbody>\n",
       "</table>\n",
       "<p>3692 rows × 7 columns</p>\n",
       "</div>"
      ],
      "text/plain": [
       "                       Open    High     Low   Close  Volume  tail  is_longtail\n",
       "Date                                                                          \n",
       "2020-11-03 14:00:00   906.1   908.5   906.1   906.3    6841   2.2         True\n",
       "2020-11-04 14:20:00   915.2   915.2   910.2   912.6    8136   2.4         True\n",
       "2020-11-16 13:10:00   932.0   934.7   930.3   931.3    4468   2.7         True\n",
       "2020-11-16 13:50:00   929.0   929.4   925.5   928.2    5747   2.7         True\n",
       "2020-11-16 14:05:00   929.5   930.2   926.2   929.0    6304   2.8         True\n",
       "...                     ...     ...     ...     ...     ...   ...          ...\n",
       "2025-02-03 09:10:00  1324.8  1326.0  1322.7  1325.5    3600   2.1         True\n",
       "2025-02-04 09:00:00  1325.5  1327.7  1324.2  1325.5   11561   2.2         True\n",
       "2025-02-07 13:40:00  1343.9  1347.4  1343.8  1345.3   14175   2.1         True\n",
       "2025-02-10 09:00:00  1333.4  1333.4  1330.0  1332.0   12980   2.0         True\n",
       "2025-02-10 09:45:00  1327.2  1327.8  1325.2  1327.5    7722   2.0         True\n",
       "\n",
       "[3692 rows x 7 columns]"
      ]
     },
     "execution_count": 48,
     "metadata": {},
     "output_type": "execute_result"
    }
   ],
   "source": [
    "data[data.is_longtail == True]"
   ]
  },
  {
   "cell_type": "markdown",
   "id": "2b3a8819-a22a-48bb-8474-c7295c8965ec",
   "metadata": {},
   "source": [
    "## Group labeling"
   ]
  },
  {
   "cell_type": "code",
   "execution_count": 49,
   "id": "529ea4fc-1aeb-4c7f-a1d3-3bf1a5676503",
   "metadata": {},
   "outputs": [],
   "source": [
    "## 1 is min, 2 is max, 0 is not min not max\n",
    "groups = []\n",
    "for i, row in data.iterrows():\n",
    "    if row['is_longtail']:\n",
    "        current_date = row.name.strftime('%Y-%m-%d ').format()\n",
    "        current_time = row.name\n",
    "        data_to_end_day = data[(data.index >=  current_date + ' 09:00:00') & (data.index < current_date + ' 14:30:00')]\n",
    "        max_High = data_to_end_day['High'].max()\n",
    "        min_Low = data_to_end_day['Low'].min()\n",
    "        #\n",
    "        if row['High'] == max_High:\n",
    "            groups.append(2)\n",
    "        elif row['Low'] == min_Low:\n",
    "            groups.append(1)\n",
    "        else:\n",
    "            groups.append(0)\n",
    "    else:\n",
    "        groups.append(0)"
   ]
  },
  {
   "cell_type": "code",
   "execution_count": 50,
   "id": "5cf9b33e-7d2f-4fce-9720-5d8dd9ea9b86",
   "metadata": {},
   "outputs": [],
   "source": [
    "data['group'] = groups"
   ]
  },
  {
   "cell_type": "code",
   "execution_count": 51,
   "id": "d6c9f1f1-4a5d-49ad-948b-5b4f7d2e0435",
   "metadata": {},
   "outputs": [
    {
     "data": {
      "text/html": [
       "<div>\n",
       "<style scoped>\n",
       "    .dataframe tbody tr th:only-of-type {\n",
       "        vertical-align: middle;\n",
       "    }\n",
       "\n",
       "    .dataframe tbody tr th {\n",
       "        vertical-align: top;\n",
       "    }\n",
       "\n",
       "    .dataframe thead th {\n",
       "        text-align: right;\n",
       "    }\n",
       "</style>\n",
       "<table border=\"1\" class=\"dataframe\">\n",
       "  <thead>\n",
       "    <tr style=\"text-align: right;\">\n",
       "      <th></th>\n",
       "      <th>Open</th>\n",
       "      <th>High</th>\n",
       "      <th>Low</th>\n",
       "      <th>Close</th>\n",
       "      <th>Volume</th>\n",
       "      <th>tail</th>\n",
       "      <th>is_longtail</th>\n",
       "      <th>group</th>\n",
       "    </tr>\n",
       "    <tr>\n",
       "      <th>Date</th>\n",
       "      <th></th>\n",
       "      <th></th>\n",
       "      <th></th>\n",
       "      <th></th>\n",
       "      <th></th>\n",
       "      <th></th>\n",
       "      <th></th>\n",
       "      <th></th>\n",
       "    </tr>\n",
       "  </thead>\n",
       "  <tbody>\n",
       "    <tr>\n",
       "      <th>2020-11-03 14:00:00</th>\n",
       "      <td>906.1</td>\n",
       "      <td>908.5</td>\n",
       "      <td>906.1</td>\n",
       "      <td>906.3</td>\n",
       "      <td>6841</td>\n",
       "      <td>2.2</td>\n",
       "      <td>True</td>\n",
       "      <td>0</td>\n",
       "    </tr>\n",
       "    <tr>\n",
       "      <th>2020-11-04 14:20:00</th>\n",
       "      <td>915.2</td>\n",
       "      <td>915.2</td>\n",
       "      <td>910.2</td>\n",
       "      <td>912.6</td>\n",
       "      <td>8136</td>\n",
       "      <td>2.4</td>\n",
       "      <td>True</td>\n",
       "      <td>0</td>\n",
       "    </tr>\n",
       "    <tr>\n",
       "      <th>2020-11-16 13:10:00</th>\n",
       "      <td>932.0</td>\n",
       "      <td>934.7</td>\n",
       "      <td>930.3</td>\n",
       "      <td>931.3</td>\n",
       "      <td>4468</td>\n",
       "      <td>2.7</td>\n",
       "      <td>True</td>\n",
       "      <td>0</td>\n",
       "    </tr>\n",
       "    <tr>\n",
       "      <th>2020-11-16 13:50:00</th>\n",
       "      <td>929.0</td>\n",
       "      <td>929.4</td>\n",
       "      <td>925.5</td>\n",
       "      <td>928.2</td>\n",
       "      <td>5747</td>\n",
       "      <td>2.7</td>\n",
       "      <td>True</td>\n",
       "      <td>0</td>\n",
       "    </tr>\n",
       "    <tr>\n",
       "      <th>2020-11-16 14:05:00</th>\n",
       "      <td>929.5</td>\n",
       "      <td>930.2</td>\n",
       "      <td>926.2</td>\n",
       "      <td>929.0</td>\n",
       "      <td>6304</td>\n",
       "      <td>2.8</td>\n",
       "      <td>True</td>\n",
       "      <td>0</td>\n",
       "    </tr>\n",
       "    <tr>\n",
       "      <th>...</th>\n",
       "      <td>...</td>\n",
       "      <td>...</td>\n",
       "      <td>...</td>\n",
       "      <td>...</td>\n",
       "      <td>...</td>\n",
       "      <td>...</td>\n",
       "      <td>...</td>\n",
       "      <td>...</td>\n",
       "    </tr>\n",
       "    <tr>\n",
       "      <th>2025-01-10 13:30:00</th>\n",
       "      <td>1307.6</td>\n",
       "      <td>1308.1</td>\n",
       "      <td>1305.6</td>\n",
       "      <td>1307.6</td>\n",
       "      <td>6362</td>\n",
       "      <td>2.0</td>\n",
       "      <td>True</td>\n",
       "      <td>0</td>\n",
       "    </tr>\n",
       "    <tr>\n",
       "      <th>2025-01-14 13:40:00</th>\n",
       "      <td>1290.5</td>\n",
       "      <td>1290.5</td>\n",
       "      <td>1286.0</td>\n",
       "      <td>1287.9</td>\n",
       "      <td>9641</td>\n",
       "      <td>1.9</td>\n",
       "      <td>True</td>\n",
       "      <td>0</td>\n",
       "    </tr>\n",
       "    <tr>\n",
       "      <th>2025-02-03 09:10:00</th>\n",
       "      <td>1324.8</td>\n",
       "      <td>1326.0</td>\n",
       "      <td>1322.7</td>\n",
       "      <td>1325.5</td>\n",
       "      <td>3600</td>\n",
       "      <td>2.1</td>\n",
       "      <td>True</td>\n",
       "      <td>0</td>\n",
       "    </tr>\n",
       "    <tr>\n",
       "      <th>2025-02-04 09:00:00</th>\n",
       "      <td>1325.5</td>\n",
       "      <td>1327.7</td>\n",
       "      <td>1324.2</td>\n",
       "      <td>1325.5</td>\n",
       "      <td>11561</td>\n",
       "      <td>2.2</td>\n",
       "      <td>True</td>\n",
       "      <td>0</td>\n",
       "    </tr>\n",
       "    <tr>\n",
       "      <th>2025-02-10 09:00:00</th>\n",
       "      <td>1333.4</td>\n",
       "      <td>1333.4</td>\n",
       "      <td>1330.0</td>\n",
       "      <td>1332.0</td>\n",
       "      <td>12980</td>\n",
       "      <td>2.0</td>\n",
       "      <td>True</td>\n",
       "      <td>0</td>\n",
       "    </tr>\n",
       "  </tbody>\n",
       "</table>\n",
       "<p>3261 rows × 8 columns</p>\n",
       "</div>"
      ],
      "text/plain": [
       "                       Open    High     Low   Close  Volume  tail  \\\n",
       "Date                                                                \n",
       "2020-11-03 14:00:00   906.1   908.5   906.1   906.3    6841   2.2   \n",
       "2020-11-04 14:20:00   915.2   915.2   910.2   912.6    8136   2.4   \n",
       "2020-11-16 13:10:00   932.0   934.7   930.3   931.3    4468   2.7   \n",
       "2020-11-16 13:50:00   929.0   929.4   925.5   928.2    5747   2.7   \n",
       "2020-11-16 14:05:00   929.5   930.2   926.2   929.0    6304   2.8   \n",
       "...                     ...     ...     ...     ...     ...   ...   \n",
       "2025-01-10 13:30:00  1307.6  1308.1  1305.6  1307.6    6362   2.0   \n",
       "2025-01-14 13:40:00  1290.5  1290.5  1286.0  1287.9    9641   1.9   \n",
       "2025-02-03 09:10:00  1324.8  1326.0  1322.7  1325.5    3600   2.1   \n",
       "2025-02-04 09:00:00  1325.5  1327.7  1324.2  1325.5   11561   2.2   \n",
       "2025-02-10 09:00:00  1333.4  1333.4  1330.0  1332.0   12980   2.0   \n",
       "\n",
       "                     is_longtail  group  \n",
       "Date                                     \n",
       "2020-11-03 14:00:00         True      0  \n",
       "2020-11-04 14:20:00         True      0  \n",
       "2020-11-16 13:10:00         True      0  \n",
       "2020-11-16 13:50:00         True      0  \n",
       "2020-11-16 14:05:00         True      0  \n",
       "...                          ...    ...  \n",
       "2025-01-10 13:30:00         True      0  \n",
       "2025-01-14 13:40:00         True      0  \n",
       "2025-02-03 09:10:00         True      0  \n",
       "2025-02-04 09:00:00         True      0  \n",
       "2025-02-10 09:00:00         True      0  \n",
       "\n",
       "[3261 rows x 8 columns]"
      ]
     },
     "execution_count": 51,
     "metadata": {},
     "output_type": "execute_result"
    }
   ],
   "source": [
    "data[(data.is_longtail == True) & (data.group == 0)]"
   ]
  },
  {
   "cell_type": "markdown",
   "id": "376e43aa-ff4b-4069-9e65-7e73f7ea8791",
   "metadata": {},
   "source": [
    "## 3. Time analytics"
   ]
  },
  {
   "cell_type": "code",
   "execution_count": 60,
   "id": "fabc6eb8-0bb6-49bb-96b9-13b9f5b5e19d",
   "metadata": {},
   "outputs": [],
   "source": [
    "df3 = data[data.is_longtail == True].copy()\n",
    "df3['hour'] = df3.index.hour"
   ]
  },
  {
   "cell_type": "code",
   "execution_count": 62,
   "id": "e31f89e6-33f1-4fb6-a97d-d0466d6e4c9e",
   "metadata": {},
   "outputs": [
    {
     "data": {
      "text/plain": [
       "<Axes: xlabel='hour'>"
      ]
     },
     "execution_count": 62,
     "metadata": {},
     "output_type": "execute_result"
    },
    {
     "data": {
      "image/png": "[encoded data removed]",
      "text/plain": [
       "<Figure size 1440x720 with 1 Axes>"
      ]
     },
     "metadata": {},
     "output_type": "display_data"
    }
   ],
   "source": [
    "group_by_hour = df3.groupby(['hour', 'group'])['hour'].count().rename({'hour': 'count'})\n",
    "group_by_hour.unstack().plot.bar()"
   ]
  },
  {
   "cell_type": "markdown",
   "id": "8f008891-7ed6-4f46-9c1c-c08a83d5d136",
   "metadata": {},
   "source": [
    "## 2.  Tail on body analytics"
   ]
  },
  {
   "cell_type": "code",
   "execution_count": 52,
   "id": "a31dc4b5-42c7-44be-9124-5351e9aaaf73",
   "metadata": {},
   "outputs": [],
   "source": [
    "df2 = data[data.is_longtail == True].copy()\n",
    "df2['body'] = abs(df2['Close'] - df2['Open'])\n",
    "df2['body_on_tail'] = df2['body'] / df2['tail']\n",
    "df2['body_on_tail'] = round(df2['body_on_tail'], 1)"
   ]
  },
  {
   "cell_type": "code",
   "execution_count": 53,
   "id": "79e853ce-4cd7-4a12-815e-eb6f35a19a11",
   "metadata": {},
   "outputs": [],
   "source": [
    "# quantile signal data\n",
    "deq_low = df2[\"body_on_tail\"].quantile(0.01)\n",
    "deq_high  = df2[\"body_on_tail\"].quantile(0.99)\n",
    "df2 = df2[(df2[\"body_on_tail\"] < deq_high) & (df2[\"body\"] > deq_low)]"
   ]
  },
  {
   "cell_type": "code",
   "execution_count": 54,
   "id": "43046c67-721d-43fe-a81f-41a6472abb56",
   "metadata": {},
   "outputs": [
    {
     "data": {
      "text/plain": [
       "<Axes: xlabel='body_on_tail'>"
      ]
     },
     "execution_count": 54,
     "metadata": {},
     "output_type": "execute_result"
    },
    {
     "data": {
      "image/png": "[encoded data removed]",
      "text/plain": [
       "<Figure size 1440x720 with 1 Axes>"
      ]
     },
     "metadata": {},
     "output_type": "display_data"
    }
   ],
   "source": [
    "group_by_body_on_tail = df2.groupby(['body_on_tail', 'group'])['body_on_tail'].count().rename({'body_on_tail': 'count'})\n",
    "group_by_body_on_tail.unstack().plot.bar()"
   ]
  },
  {
   "cell_type": "markdown",
   "id": "b4d0c58a-084f-4fed-8a6f-bea37b2472e6",
   "metadata": {},
   "source": [
    " ## 1. Body analytics"
   ]
  },
  {
   "cell_type": "code",
   "execution_count": 55,
   "id": "835b8aa7-4b26-4c0a-9126-2416aeaf8228",
   "metadata": {},
   "outputs": [],
   "source": [
    "df1 = data[data.is_longtail == True].copy()\n",
    "df1['body'] = abs(df1['Close'] - df1['Open'])\n",
    "df1['body'] = round(df1['body'], 1)"
   ]
  },
  {
   "cell_type": "code",
   "execution_count": 56,
   "id": "0609ad73-3e82-406e-b87a-516bce4542a2",
   "metadata": {},
   "outputs": [],
   "source": [
    "# quantile signal data\n",
    "deq_low = df1[\"body\"].quantile(0.01)\n",
    "deq_high  = df1[\"body\"].quantile(0.99)\n",
    "df1 = df1[(df1[\"body\"] < deq_high) & (df1[\"body\"] > deq_low)]"
   ]
  },
  {
   "cell_type": "code",
   "execution_count": 57,
   "id": "b5ee6a25-7c55-42f3-b233-4799a8314729",
   "metadata": {},
   "outputs": [
    {
     "data": {
      "text/plain": [
       "<Axes: xlabel='body'>"
      ]
     },
     "execution_count": 57,
     "metadata": {},
     "output_type": "execute_result"
    },
    {
     "data": {
      "image/png": "[encoded data removed]",
      "text/plain": [
       "<Figure size 1440x720 with 1 Axes>"
      ]
     },
     "metadata": {},
     "output_type": "display_data"
    }
   ],
   "source": [
    "group_by_body = df1.groupby(['body', 'group'])['body'].count().rename({'body': 'count'})\n",
    "group_by_body.unstack().plot.bar()"
   ]
  },
  {
   "cell_type": "code",
   "execution_count": null,
   "id": "356aeb83-6362-40dd-b595-a70648a6153c",
   "metadata": {},
   "outputs": [],
   "source": []
  }
 ],
 "metadata": {
  "kernelspec": {
   "display_name": "Python 3 (ipykernel)",
   "language": "python",
   "name": "python3"
  },
  "language_info": {
   "codemirror_mode": {
    "name": "ipython",
    "version": 3
   },
   "file_extension": ".py",
   "mimetype": "text/x-python",
   "name": "python",
   "nbconvert_exporter": "python",
   "pygments_lexer": "ipython3",
   "version": "3.11.4"
  }
 },
 "nbformat": 4,
 "nbformat_minor": 5
}
